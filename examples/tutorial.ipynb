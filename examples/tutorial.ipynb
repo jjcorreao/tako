{
 "worksheets": [
  {
   "cells": [
    {
     "cell_type": "code",
     "metadata": {},
     "outputs": [],
     "input": [
      ""
     ],
     "language": "python"
    },
    {
     "cell_type": "code",
     "metadata": {},
     "outputs": [],
     "input": [
      "from tako.arms.alignment import Alignment\n",
      "from tako.arms.correction import Correction\n",
      "from tako.arms.segmentation import Segmentation\n",
      "from tako.arms.visualization import Visualization\n",
      "from tako.head import head"
     ],
     "language": "python"
    },
    {
     "cell_type": "code",
     "metadata": {},
     "outputs": [],
     "input": [
      ""
     ],
     "language": "python"
    },
    {
     "cell_type": "markdown",
     "metadata": {},
     "source": [
      "タコ (Tako)\n",
      "===\n",
      "Tako is a image processing workflow engine for high-performance computing"
     ]
    },
    {
     "cell_type": "code",
     "metadata": {},
     "outputs": [],
     "input": [
      "alignment = Alignment(setup={\"algorithm\": \"method1\",\n",
      "                   \"data\": \"examples/data/data.raw\",\n",
      "                   \"params\": {\"uno\": 1,\n",
      "                              \"dos\": 2}})"
     ],
     "language": "python"
    },
    {
     "cell_type": "code",
     "metadata": {},
     "outputs": [],
     "input": [
      ""
     ],
     "language": "python"
    },
    {
     "cell_type": "code",
     "metadata": {},
     "outputs": [],
     "input": [
      "correction = Correction(setup = {\"algorithm\": \"\",\n",
      "                   \"data\": alignment.output(),\n",
      "                   \"params\": {\"uno\": 1,\n",
      "                              \"dos\": 2}})"
     ],
     "language": "python"
    },
    {
     "cell_type": "code",
     "metadata": {},
     "outputs": [],
     "input": [
      "segmentation = Segmentation(setup = {\"algorithm\": \"\",\n",
      "                   \"data\": correction.output(),\n",
      "                   \"params\": {\"uno\": 1,\n",
      "                              \"dos\": 2}})"
     ],
     "language": "python"
    },
    {
     "cell_type": "code",
     "metadata": {},
     "outputs": [],
     "input": [
      "visualization = Visualization(setup = {\"algorithm\": \"\",\n",
      "                   \"data\": segmentation.output(),\n",
      "                   \"params\": {\"uno\": 1,\n",
      "                              \"dos\": 2}})"
     ],
     "language": "python"
    },
    {
     "cell_type": "code",
     "metadata": {},
     "outputs": [],
     "input": [
      "head.do_workflow(inputs=[alignment, correction, segmentation, visualization])"
     ],
     "language": "python"
    }
   ]
  }
 ],
 "cells": [],
 "metadata": {},
 "nbformat": 3,
 "nbformat_minor": 0
}